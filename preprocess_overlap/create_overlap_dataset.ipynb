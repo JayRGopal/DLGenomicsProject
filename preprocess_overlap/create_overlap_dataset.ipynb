{
 "cells": [
  {
   "cell_type": "code",
   "execution_count": null,
   "id": "3370a00f-b555-4d72-9715-f77a7e1a5ad0",
   "metadata": {},
   "outputs": [],
   "source": [
    "import pandas as pd\n",
    "vcf = pd.read_pickle(\"all_vcfs.pkl\")\n",
    "c = pd.read_csv(\"clinical.csv\").drop(\"Unnamed: 0\", axis=1).rename(columns={\"PTID\":\"subject\"})\n",
    "img = pd.read_pickle('mri_meta.pkl')[[\"img_array\", \"subject\", \"label\"]]"
   ]
  },
  {
   "cell_type": "code",
   "execution_count": null,
   "id": "e09f360c-4c65-4b8d-b995-e5369a983a0a",
   "metadata": {},
   "outputs": [],
   "source": [
    "vcf.head()"
   ]
  },
  {
   "cell_type": "code",
   "execution_count": null,
   "id": "fd47241c-c670-47f2-9ced-c010e1020c45",
   "metadata": {},
   "outputs": [],
   "source": [
    "c.head()"
   ]
  },
  {
   "cell_type": "code",
   "execution_count": null,
   "id": "0d315924-eacb-4ad6-a5c5-72386f0aa7db",
   "metadata": {},
   "outputs": [],
   "source": [
    "c = c.rename(columns = {\"Group\":\"GROUP\"})"
   ]
  },
  {
   "cell_type": "code",
   "execution_count": null,
   "id": "5b3082bf-81c0-4934-9785-5d7d4e11eba7",
   "metadata": {},
   "outputs": [],
   "source": [
    "a = vcf.merge(c, on = [\"subject\", \"GROUP\"]).merge(img, on = \"subject\")"
   ]
  },
  {
   "cell_type": "code",
   "execution_count": null,
   "id": "767db294-0791-49a1-8cd6-ab530658c156",
   "metadata": {},
   "outputs": [],
   "source": [
    "a[\"subject\"].value_counts()"
   ]
  },
  {
   "cell_type": "code",
   "execution_count": null,
   "id": "f944845e-06ed-4f9e-813e-432436ba1ef7",
   "metadata": {},
   "outputs": [],
   "source": [
    "a[\"GROUP\"].value_counts()"
   ]
  },
  {
   "cell_type": "code",
   "execution_count": null,
   "id": "337fec2d-3672-458b-922b-796316788706",
   "metadata": {},
   "outputs": [],
   "source": [
    "a[\"GROUP\"].value_counts()"
   ]
  },
  {
   "cell_type": "code",
   "execution_count": null,
   "id": "918771f2-1afa-41d6-bd34-d3ccb933d9eb",
   "metadata": {},
   "outputs": [],
   "source": [
    "cols = list(set(a.columns) - set([\"PTID\", \"label\", \"GROUP\",\n",
    "                                  \"RID\", \"ID\", \"Group\", \"Phase\", \"SITEID\", \"VISCODE\", \"VISCODE2\", \"USERDATE\", \"USERDATE2\", \"update_stamp\", \"DX\", \"Unnamed: 0\"]))"
   ]
  },
  {
   "cell_type": "code",
   "execution_count": null,
   "id": "76a4ef04-5abc-4e94-ae9b-1dc49d9dea36",
   "metadata": {},
   "outputs": [],
   "source": [
    "X= a[cols]\n",
    "y = a[\"GROUP\"]"
   ]
  },
  {
   "cell_type": "code",
   "execution_count": null,
   "id": "324024f5-7eb5-43d0-a02b-a33cd7c33e01",
   "metadata": {},
   "outputs": [],
   "source": [
    "from sklearn.model_selection import train_test_split\n",
    "X_train, X_test, y_train, y_test = train_test_split(X, y, test_size=0.1, stratify=y)"
   ]
  },
  {
   "cell_type": "code",
   "execution_count": null,
   "id": "a165e903-b782-417f-a7db-c232cc1f5522",
   "metadata": {},
   "outputs": [],
   "source": [
    "X_test[[\"subject\"]].to_csv(\"overlap_test_set.csv\")"
   ]
  },
  {
   "cell_type": "code",
   "execution_count": null,
   "id": "6b1ed881-6654-46b2-ae34-45d38bc2f143",
   "metadata": {},
   "outputs": [],
   "source": [
    "snp_cols = set(X_train.columns).intersection(set(vcf.columns))"
   ]
  },
  {
   "cell_type": "code",
   "execution_count": null,
   "id": "407d2e04-1583-46d5-8490-90668b388cc4",
   "metadata": {},
   "outputs": [],
   "source": [
    "X_train_snp = X_train[snp_cols]\n",
    "X_test_snp = X_test[snp_cols]"
   ]
  },
  {
   "cell_type": "code",
   "execution_count": null,
   "id": "b2040535-5fae-4c6b-88bc-c683488cfa5f",
   "metadata": {},
   "outputs": [],
   "source": [
    "img_cols = set(X_train.columns).intersection(set(img.columns))\n",
    "print(len(img.columns))\n",
    "print(len(img_cols))\n",
    "X_train_img = X_train[img_cols]\n",
    "X_test_img = X_test[img_cols]"
   ]
  },
  {
   "cell_type": "code",
   "execution_count": null,
   "id": "b4a40292-4da9-4911-b648-c98437c47dc6",
   "metadata": {},
   "outputs": [],
   "source": [
    "clin_cols = set(X_train.columns).intersection(set(c.columns))\n",
    "print(len(c.columns))\n",
    "print(len(clin_cols))\n",
    "X_train_clin = X_train[clin_cols]\n",
    "X_test_clin = X_test[clin_cols]"
   ]
  },
  {
   "cell_type": "code",
   "execution_count": null,
   "id": "fb54d2ae-7429-400a-9578-dfbac76e5d74",
   "metadata": {},
   "outputs": [],
   "source": [
    "pd.DataFrame(X_train_snp).to_pickle(\"X_train_snp.pkl\")\n",
    "pd.DataFrame(X_test_snp).to_pickle(\"X_test_snp.pkl\")\n",
    "pd.DataFrame(y_train).to_pickle(\"y_train.pkl\")\n",
    "pd.DataFrame(y_test).to_pickle(\"y_test.pkl\")\n",
    "\n",
    "pd.DataFrame(X_train_clin).to_pickle(\"X_train_clinical.pkl\")\n",
    "pd.DataFrame(X_test_clin).to_pickle(\"X_test_clinical.pkl\")\n",
    "\n",
    "pd.DataFrame(X_train_img).to_pickle(\"X_train_img.pkl\")\n",
    "pd.DataFrame(X_test_img).to_pickle(\"X_test_img.pkl\")"
   ]
  },
  {
   "cell_type": "markdown",
   "id": "3d6be1ad-6f93-496b-a914-20728baca6f9",
   "metadata": {},
   "source": [
    "---------------------------------------------------------------------------------------------------------"
   ]
  }
 ],
 "metadata": {
  "kernelspec": {
   "display_name": "Python 3 (ipykernel)",
   "language": "python",
   "name": "python3"
  },
  "language_info": {
   "codemirror_mode": {
    "name": "ipython",
    "version": 3
   },
   "file_extension": ".py",
   "mimetype": "text/x-python",
   "name": "python",
   "nbconvert_exporter": "python",
   "pygments_lexer": "ipython3",
   "version": "3.10.5"
  }
 },
 "nbformat": 4,
 "nbformat_minor": 5
}
