{
 "cells": [
  {
   "cell_type": "code",
   "execution_count": 80,
   "id": "6cfd763c",
   "metadata": {},
   "outputs": [],
   "source": [
    "import pandas as pd\n",
    "import numpy as np\n",
    "from sklearn.model_selection import train_test_split\n",
    "from sklearn.preprocessing import StandardScaler\n",
    "from keras.models import Sequential\n",
    "from keras.layers import Dense,Dropout,MaxPooling1D, Flatten,BatchNormalization, GaussianNoise,Conv1D\n",
    "import matplotlib.pyplot as plt\n",
    "from tensorflow.keras.optimizers import Adam\n",
    "from tensorflow.keras.utils import to_categorical\n",
    "from sklearn.utils import compute_class_weight\n",
    "from tensorflow.keras import initializers\n",
    "from tensorflow.keras import regularizers\n",
    "from tensorflow.keras.models import Sequential, save_model, load_model\n",
    "## some column names wrong, some csvs missing, "
   ]
  },
  {
   "cell_type": "code",
   "execution_count": 81,
   "id": "4b2bf397-16cf-4283-8235-13e6301bf49b",
   "metadata": {},
   "outputs": [],
   "source": [
    "#this was created in general/diagnosis_making notebook\n",
    "diag = pd.read_csv(\"../general/ground_truth.csv\").drop(\"Unnamed: 0\", axis=1)"
   ]
  },
  {
   "cell_type": "markdown",
   "id": "1b4facbe-e460-4b9e-8295-0b159f336a89",
   "metadata": {},
   "source": [
    "Below we are combining several clinical datasets."
   ]
  },
  {
   "cell_type": "code",
   "execution_count": 82,
   "id": "fa4b7bb4-4f1c-4dfe-94f6-bff26f6e155c",
   "metadata": {},
   "outputs": [],
   "source": [
    "demo = pd.read_csv(\"../PTDEMOG_07Nov2023.csv\")"
   ]
  },
  {
   "cell_type": "code",
   "execution_count": 83,
   "id": "84188e78-fcfd-4bb2-ae93-8cba7dc6adea",
   "metadata": {},
   "outputs": [],
   "source": [
    "neuro = pd.read_csv(\"../NEUROEXM_07Nov2023.csv\")"
   ]
  },
  {
   "cell_type": "code",
   "execution_count": 84,
   "id": "dfe73dfa-d1c9-4a58-b644-d61cb74783d6",
   "metadata": {},
   "outputs": [
    {
     "data": {
      "text/plain": [
       "Index(['Phase', 'ID', 'PTID', 'RID', 'SITEID', 'VISCODE', 'VISCODE2',\n",
       "       'VISDATE', 'USERDATE', 'USERDATE2', 'EXAMDATE', 'NXVISUAL', 'NXAUDITO',\n",
       "       'NXTREMOR', 'NXCONSCI', 'NXNERVE', 'NXMOTOR', 'NXFINGER', 'NXHEEL',\n",
       "       'NXSENSOR', 'NXTENDON', 'NXPLANTA', 'NXGAIT', 'NXOTHER', 'NXABNORM',\n",
       "       'update_stamp'],\n",
       "      dtype='object')"
      ]
     },
     "execution_count": 84,
     "metadata": {},
     "output_type": "execute_result"
    }
   ],
   "source": [
    "neuro.columns"
   ]
  },
  {
   "cell_type": "code",
   "execution_count": 85,
   "id": "e09e4f90-4b71-4eac-b523-e01a4d18d71c",
   "metadata": {},
   "outputs": [],
   "source": [
    "clinical = pd.read_csv(\"../general/ADSP_PHC_COGN.csv\").rename(columns={\"PHASE\":\"Phase\"})"
   ]
  },
  {
   "cell_type": "code",
   "execution_count": 86,
   "id": "ef8c67b3-316b-4294-8af7-c70992d976c9",
   "metadata": {},
   "outputs": [
    {
     "data": {
      "text/html": [
       "<div>\n",
       "<style scoped>\n",
       "    .dataframe tbody tr th:only-of-type {\n",
       "        vertical-align: middle;\n",
       "    }\n",
       "\n",
       "    .dataframe tbody tr th {\n",
       "        vertical-align: top;\n",
       "    }\n",
       "\n",
       "    .dataframe thead th {\n",
       "        text-align: right;\n",
       "    }\n",
       "</style>\n",
       "<table border=\"1\" class=\"dataframe\">\n",
       "  <thead>\n",
       "    <tr style=\"text-align: right;\">\n",
       "      <th></th>\n",
       "      <th>RID</th>\n",
       "      <th>SUBJID</th>\n",
       "      <th>Phase</th>\n",
       "      <th>VISCODE</th>\n",
       "      <th>VISCODE2</th>\n",
       "      <th>EXAMDATE</th>\n",
       "      <th>PHC_VISIT</th>\n",
       "      <th>PHC_Sex</th>\n",
       "      <th>PHC_Education</th>\n",
       "      <th>PHC_Ethnicity</th>\n",
       "      <th>PHC_Race</th>\n",
       "      <th>PHC_AGE</th>\n",
       "      <th>PHC_Diagnosis</th>\n",
       "      <th>PHC_MEM</th>\n",
       "      <th>PHC_EXF</th>\n",
       "      <th>PHC_LAN</th>\n",
       "      <th>PHC_VSP</th>\n",
       "      <th>update_stamp</th>\n",
       "    </tr>\n",
       "  </thead>\n",
       "  <tbody>\n",
       "    <tr>\n",
       "      <th>0</th>\n",
       "      <td>2</td>\n",
       "      <td>ADNI_011_S_0002</td>\n",
       "      <td>ADNI1</td>\n",
       "      <td>bl</td>\n",
       "      <td>bl</td>\n",
       "      <td>2005-09-08</td>\n",
       "      <td>1</td>\n",
       "      <td>1.0</td>\n",
       "      <td>16.0</td>\n",
       "      <td>2.0</td>\n",
       "      <td>5.0</td>\n",
       "      <td>74.439425</td>\n",
       "      <td>1.0</td>\n",
       "      <td>0.277</td>\n",
       "      <td>0.254</td>\n",
       "      <td>0.293</td>\n",
       "      <td>NaN</td>\n",
       "      <td>2022-10-18 09:15:45.0</td>\n",
       "    </tr>\n",
       "    <tr>\n",
       "      <th>1</th>\n",
       "      <td>2</td>\n",
       "      <td>ADNI_011_S_0002</td>\n",
       "      <td>ADNI1</td>\n",
       "      <td>m06</td>\n",
       "      <td>m06</td>\n",
       "      <td>2006-03-06</td>\n",
       "      <td>2</td>\n",
       "      <td>1.0</td>\n",
       "      <td>16.0</td>\n",
       "      <td>2.0</td>\n",
       "      <td>5.0</td>\n",
       "      <td>74.929500</td>\n",
       "      <td>1.0</td>\n",
       "      <td>0.237</td>\n",
       "      <td>0.278</td>\n",
       "      <td>0.535</td>\n",
       "      <td>-0.333</td>\n",
       "      <td>2022-10-18 09:15:45.0</td>\n",
       "    </tr>\n",
       "    <tr>\n",
       "      <th>2</th>\n",
       "      <td>2</td>\n",
       "      <td>ADNI_011_S_0002</td>\n",
       "      <td>ADNI1</td>\n",
       "      <td>m36</td>\n",
       "      <td>m36</td>\n",
       "      <td>2008-08-27</td>\n",
       "      <td>3</td>\n",
       "      <td>1.0</td>\n",
       "      <td>16.0</td>\n",
       "      <td>2.0</td>\n",
       "      <td>5.0</td>\n",
       "      <td>77.407255</td>\n",
       "      <td>1.0</td>\n",
       "      <td>0.344</td>\n",
       "      <td>0.419</td>\n",
       "      <td>0.535</td>\n",
       "      <td>NaN</td>\n",
       "      <td>2022-10-18 09:15:45.0</td>\n",
       "    </tr>\n",
       "    <tr>\n",
       "      <th>3</th>\n",
       "      <td>2</td>\n",
       "      <td>ADNI_011_S_0002</td>\n",
       "      <td>ADNIGO</td>\n",
       "      <td>m60</td>\n",
       "      <td>m60</td>\n",
       "      <td>2010-09-22</td>\n",
       "      <td>4</td>\n",
       "      <td>1.0</td>\n",
       "      <td>16.0</td>\n",
       "      <td>2.0</td>\n",
       "      <td>5.0</td>\n",
       "      <td>79.477070</td>\n",
       "      <td>1.0</td>\n",
       "      <td>0.101</td>\n",
       "      <td>0.066</td>\n",
       "      <td>0.620</td>\n",
       "      <td>0.264</td>\n",
       "      <td>2022-10-18 09:15:45.0</td>\n",
       "    </tr>\n",
       "    <tr>\n",
       "      <th>4</th>\n",
       "      <td>2</td>\n",
       "      <td>ADNI_011_S_0002</td>\n",
       "      <td>ADNI2</td>\n",
       "      <td>v06</td>\n",
       "      <td>m72</td>\n",
       "      <td>2011-09-19</td>\n",
       "      <td>5</td>\n",
       "      <td>1.0</td>\n",
       "      <td>16.0</td>\n",
       "      <td>2.0</td>\n",
       "      <td>5.0</td>\n",
       "      <td>80.468172</td>\n",
       "      <td>1.0</td>\n",
       "      <td>0.090</td>\n",
       "      <td>0.002</td>\n",
       "      <td>0.460</td>\n",
       "      <td>0.264</td>\n",
       "      <td>2022-10-18 09:15:45.0</td>\n",
       "    </tr>\n",
       "  </tbody>\n",
       "</table>\n",
       "</div>"
      ],
      "text/plain": [
       "   RID           SUBJID   Phase VISCODE VISCODE2    EXAMDATE  PHC_VISIT  \\\n",
       "0    2  ADNI_011_S_0002   ADNI1      bl       bl  2005-09-08          1   \n",
       "1    2  ADNI_011_S_0002   ADNI1     m06      m06  2006-03-06          2   \n",
       "2    2  ADNI_011_S_0002   ADNI1     m36      m36  2008-08-27          3   \n",
       "3    2  ADNI_011_S_0002  ADNIGO     m60      m60  2010-09-22          4   \n",
       "4    2  ADNI_011_S_0002   ADNI2     v06      m72  2011-09-19          5   \n",
       "\n",
       "   PHC_Sex  PHC_Education  PHC_Ethnicity  PHC_Race    PHC_AGE  PHC_Diagnosis  \\\n",
       "0      1.0           16.0            2.0       5.0  74.439425            1.0   \n",
       "1      1.0           16.0            2.0       5.0  74.929500            1.0   \n",
       "2      1.0           16.0            2.0       5.0  77.407255            1.0   \n",
       "3      1.0           16.0            2.0       5.0  79.477070            1.0   \n",
       "4      1.0           16.0            2.0       5.0  80.468172            1.0   \n",
       "\n",
       "   PHC_MEM  PHC_EXF  PHC_LAN  PHC_VSP           update_stamp  \n",
       "0    0.277    0.254    0.293      NaN  2022-10-18 09:15:45.0  \n",
       "1    0.237    0.278    0.535   -0.333  2022-10-18 09:15:45.0  \n",
       "2    0.344    0.419    0.535      NaN  2022-10-18 09:15:45.0  \n",
       "3    0.101    0.066    0.620    0.264  2022-10-18 09:15:45.0  \n",
       "4    0.090    0.002    0.460    0.264  2022-10-18 09:15:45.0  "
      ]
     },
     "execution_count": 86,
     "metadata": {},
     "output_type": "execute_result"
    }
   ],
   "source": [
    "clinical.head()"
   ]
  },
  {
   "cell_type": "code",
   "execution_count": 87,
   "id": "8174678d-bb3a-4257-a65c-9b5b7c329ddd",
   "metadata": {},
   "outputs": [
    {
     "data": {
      "text/plain": [
       "068_S_2187    3\n",
       "007_S_2394    3\n",
       "067_S_2301    3\n",
       "022_S_2379    3\n",
       "031_S_2018    2\n",
       "             ..\n",
       "305_S_6899    1\n",
       "020_S_6901    1\n",
       "036_S_6897    1\n",
       "137_S_6893    1\n",
       "305_S_6810    1\n",
       "Name: Subject, Length: 416, dtype: int64"
      ]
     },
     "execution_count": 87,
     "metadata": {},
     "output_type": "execute_result"
    }
   ],
   "source": [
    "diag[\"Subject\"].value_counts()"
   ]
  },
  {
   "cell_type": "code",
   "execution_count": 88,
   "id": "dc0bfc71-fc78-4de4-b8ea-dcc6cc684cb6",
   "metadata": {},
   "outputs": [],
   "source": [
    "comb = pd.read_csv(\"../general/DXSUM_PDXCONV_ADNIALL.csv\")[[\"RID\", \"PTID\" , \"Phase\"]]"
   ]
  },
  {
   "cell_type": "code",
   "execution_count": 89,
   "id": "c9606fab-0929-453f-9f5f-cbe935eba8d3",
   "metadata": {},
   "outputs": [],
   "source": [
    "m = comb.merge(demo, on = [\"RID\", \"Phase\"]).merge(neuro,on = [\"RID\", \"Phase\"]).merge(clinical,on = [\"RID\", \"Phase\"]).drop_duplicates()"
   ]
  },
  {
   "cell_type": "code",
   "execution_count": 90,
   "id": "237ecaa4-718c-499f-9083-57ed9a7ae1d9",
   "metadata": {},
   "outputs": [],
   "source": [
    "m.columns = [c[:-2] if str(c).endswith(('_x','_y')) else c for c in m.columns]\n",
    "\n",
    "m = m.loc[:,~m.columns.duplicated()]"
   ]
  },
  {
   "cell_type": "code",
   "execution_count": 91,
   "id": "9466e8ce-532f-44e2-86fc-7483dc16f232",
   "metadata": {},
   "outputs": [],
   "source": [
    "diag = diag.rename(columns = {\"Subject\": \"PTID\"})"
   ]
  },
  {
   "cell_type": "code",
   "execution_count": 92,
   "id": "4e3e6ca5-56c5-4298-b36f-1edf0b09c9c1",
   "metadata": {},
   "outputs": [],
   "source": [
    "m = m.merge(diag, on = [\"PTID\", \"Phase\"])"
   ]
  },
  {
   "cell_type": "code",
   "execution_count": 93,
   "id": "9ca5e7d1-f74b-49e4-ab98-66ac61788667",
   "metadata": {},
   "outputs": [
    {
     "data": {
      "text/plain": [
       "067_S_4767    18\n",
       "141_S_0697    15\n",
       "067_S_4072    14\n",
       "067_S_4054    12\n",
       "130_S_1200    10\n",
       "              ..\n",
       "016_S_4963     1\n",
       "094_S_4459     1\n",
       "016_S_4575     1\n",
       "036_S_4740     1\n",
       "131_S_6153     1\n",
       "Name: PTID, Length: 109, dtype: int64"
      ]
     },
     "execution_count": 93,
     "metadata": {},
     "output_type": "execute_result"
    }
   ],
   "source": [
    "m[\"PTID\"].value_counts()"
   ]
  },
  {
   "cell_type": "code",
   "execution_count": 94,
   "id": "4ee16034-93c9-41bb-88a9-d810a938b227",
   "metadata": {},
   "outputs": [],
   "source": [
    "t = m"
   ]
  },
  {
   "cell_type": "code",
   "execution_count": 95,
   "id": "0fb48ca5",
   "metadata": {},
   "outputs": [
    {
     "data": {
      "text/plain": [
       "Index(['RID', 'PTID', 'Phase', 'ID', 'SITEID', 'VISCODE', 'VISCODE2',\n",
       "       'VISDATE', 'USERDATE', 'USERDATE2', 'PTSOURCE', 'PTGENDER', 'PTDOB',\n",
       "       'PTDOBYY', 'PTHAND', 'PTMARRY', 'PTEDUCAT', 'PTWORKHS', 'PTNOTRT',\n",
       "       'PTRTYR', 'PTRTYR_DRVD', 'PTHOME', 'PTTLANG', 'PTPLANG', 'PTCOGBEG',\n",
       "       'PTMCIBEG', 'PTADBEG', 'PTADDX', 'PTETHCAT', 'PTRACCAT', 'update_stamp',\n",
       "       'EXAMDATE', 'NXVISUAL', 'NXAUDITO', 'NXTREMOR', 'NXCONSCI', 'NXNERVE',\n",
       "       'NXMOTOR', 'NXFINGER', 'NXHEEL', 'NXSENSOR', 'NXTENDON', 'NXPLANTA',\n",
       "       'NXGAIT', 'NXOTHER', 'NXABNORM', 'SUBJID', 'PHC_VISIT', 'PHC_Sex',\n",
       "       'PHC_Education', 'PHC_Ethnicity', 'PHC_Race', 'PHC_AGE',\n",
       "       'PHC_Diagnosis', 'PHC_MEM', 'PHC_EXF', 'PHC_LAN', 'PHC_VSP', 'Group'],\n",
       "      dtype='object')"
      ]
     },
     "execution_count": 95,
     "metadata": {},
     "output_type": "execute_result"
    }
   ],
   "source": [
    "t.columns"
   ]
  },
  {
   "cell_type": "code",
   "execution_count": 96,
   "id": "34bfedf8-9f93-4d34-83b6-cdf48c517115",
   "metadata": {},
   "outputs": [],
   "source": [
    "t = t.drop([\"ID\",  \"SITEID\", \"VISCODE\", \"VISCODE2\", \"USERDATE\", \"USERDATE2\",\n",
    "            \"update_stamp\",  \"PTSOURCE\"], axis=1)  #\"PTDOBMM\", \"DX\"], axis=1) \n",
    "# these variables don't occur in the new DF. Ignorming them for now, but will\n",
    "# investigate what they are"
   ]
  },
  {
   "cell_type": "code",
   "execution_count": 97,
   "id": "eb94d03a-a0dc-4579-bddc-e7795e23b779",
   "metadata": {},
   "outputs": [
    {
     "data": {
      "text/plain": [
       "Index(['RID', 'PTID', 'Phase', 'VISDATE', 'PTGENDER', 'PTDOB', 'PTDOBYY',\n",
       "       'PTHAND', 'PTMARRY', 'PTEDUCAT', 'PTWORKHS', 'PTNOTRT', 'PTRTYR',\n",
       "       'PTRTYR_DRVD', 'PTHOME', 'PTTLANG', 'PTPLANG', 'PTCOGBEG', 'PTMCIBEG',\n",
       "       'PTADBEG', 'PTADDX', 'PTETHCAT', 'PTRACCAT', 'EXAMDATE', 'NXVISUAL',\n",
       "       'NXAUDITO', 'NXTREMOR', 'NXCONSCI', 'NXNERVE', 'NXMOTOR', 'NXFINGER',\n",
       "       'NXHEEL', 'NXSENSOR', 'NXTENDON', 'NXPLANTA', 'NXGAIT', 'NXOTHER',\n",
       "       'NXABNORM', 'SUBJID', 'PHC_VISIT', 'PHC_Sex', 'PHC_Education',\n",
       "       'PHC_Ethnicity', 'PHC_Race', 'PHC_AGE', 'PHC_Diagnosis', 'PHC_MEM',\n",
       "       'PHC_EXF', 'PHC_LAN', 'PHC_VSP', 'Group'],\n",
       "      dtype='object')"
      ]
     },
     "execution_count": 97,
     "metadata": {},
     "output_type": "execute_result"
    }
   ],
   "source": [
    "t.columns"
   ]
  },
  {
   "cell_type": "code",
   "execution_count": 98,
   "id": "e142078e-7625-445c-a937-c4e639f3c119",
   "metadata": {},
   "outputs": [],
   "source": [
    "t = t.fillna(-4)\n",
    "t = t.replace(\"-4\", -4)\n",
    "cols_to_delete = t.columns[(t == -4).sum()/len(t) > .70]\n",
    "t.drop(cols_to_delete, axis = 1, inplace = True)\n",
    "\n",
    "# EVERYHTING UP TO HERE WORKS, THIS IS WHERE IT BEGINS TO BE PROBLEMATIC. I CAN'T\n",
    "# KEEP WORKING NOW, BUT I WILL COME BACK TO THIS\n",
    "\n",
    "\n",
    "# This drops PTWORKHS, which seems necessary for the next code block. I'm commenting\n",
    "# that out for now because it doesn't seem all that relevant for analysis,\n",
    "# but we should look at why we don't have PTWORK and if these deletions are necessary"
   ]
  },
  {
   "cell_type": "code",
   "execution_count": 99,
   "id": "533b3163-9c32-44a2-ad26-a7507780cf9c",
   "metadata": {},
   "outputs": [
    {
     "data": {
      "text/plain": [
       "47"
      ]
     },
     "execution_count": 99,
     "metadata": {},
     "output_type": "execute_result"
    }
   ],
   "source": [
    "len(t.columns)"
   ]
  },
  {
   "cell_type": "code",
   "execution_count": 100,
   "id": "f1421723-cf80-42ce-b884-6ce990c69b44",
   "metadata": {},
   "outputs": [],
   "source": [
    "# t[\"PTWORKHS\"] = t[\"PTWORKHS\"].str.lower().str.replace(\"housewife\", \"homemaker\").str.replace(\"rn\", \"nurse\").str.replace(\"bookeeper\",\n",
    "                                                                                                                #    \"bookkeeper\").str.replace(\"cpa\", \"accounting\")\n",
    "# I'm assuming PTWORKHS is what used to be PTWORK\n",
    "# This part needs to be reviewed"
   ]
  },
  {
   "cell_type": "code",
   "execution_count": 102,
   "id": "cb11101b-23b3-4311-8cdd-8b98aa460204",
   "metadata": {},
   "outputs": [],
   "source": [
    "# t[\"PTWORK\"] = t[\"PTWORK\"].fillna(\"-4\").astype(str)\n",
    "\n",
    "#again, dealing with the PTWORK is causing issues"
   ]
  },
  {
   "cell_type": "code",
   "execution_count": null,
   "id": "f09c3b99-f2c0-45c2-8009-cb9fc740084a",
   "metadata": {
    "scrolled": true,
    "tags": []
   },
   "outputs": [],
   "source": [
    "t['PTWORK'] = t['PTWORK'].str.replace(r'(^.*teach.*$)', 'education')\n",
    "t['PTWORK'] = t['PTWORK'].str.replace(r'(^.*bookkeep.*$)', 'bookkeeper')\n",
    "t['PTWORK'] = t['PTWORK'].str.replace(r'(^.*wife.*$)', 'homemaker')\n",
    "t['PTWORK'] = t['PTWORK'].str.replace(r'(^.*educat.*$)', 'education')\n",
    "t['PTWORK'] = t['PTWORK'].str.replace(r'(^.*engineer.*$)', 'engineer')\n",
    "t['PTWORK'] = t['PTWORK'].str.replace(r'(^.*eingineering.*$)', 'engineer') \n",
    "t['PTWORK'] = t['PTWORK'].str.replace(r'(^.*computer programmer.*$)', 'engineer') \n",
    "t['PTWORK'] = t['PTWORK'].str.replace(r'(^.*nurs.*$)', 'nurse')\n",
    "t['PTWORK'] = t['PTWORK'].str.replace(r'(^.*manage.*$)', 'managment')\n",
    "t['PTWORK'] = t['PTWORK'].str.replace(r'(^.*therapist.*$)', 'therapist')\n",
    "t['PTWORK'] = t['PTWORK'].str.replace(r'(^.*sales.*$)', 'sales')\n",
    "t['PTWORK'] = t['PTWORK'].str.replace(r'(^.*admin.*$)', 'admin')\n",
    "t['PTWORK'] = t['PTWORK'].str.replace(r'(^.*account.*$)', 'accounting')\n",
    "t['PTWORK'] = t['PTWORK'].str.replace(r'(^.*real.*$)', 'real estate')\n",
    "t['PTWORK'] = t['PTWORK'].str.replace(r'(^.*secretary.*$)', 'secretary')\n",
    "t['PTWORK'] = t['PTWORK'].str.replace(r'(^.*professor.*$)', 'professor')\n",
    "t['PTWORK'] = t['PTWORK'].str.replace(r'(^.*chem.*$)', 'chemist')\n",
    "t['PTWORK'] = t['PTWORK'].str.replace(r'(^.*business.*$)', 'business')\n",
    "t['PTWORK'] = t['PTWORK'].str.replace(r'(^.*writ.*$)', 'writing')\n",
    "t['PTWORK'] = t['PTWORK'].str.replace(r'(^.*psych.*$)', 'psychology')\n",
    "t['PTWORK'] = t['PTWORK'].str.replace(r'(^.*analys.*$)', 'analyst')"
   ]
  },
  {
   "cell_type": "code",
   "execution_count": null,
   "id": "87956e37",
   "metadata": {},
   "outputs": [],
   "source": [
    "cond = t['PTWORK'].value_counts()\n",
    "threshold = 10\n",
    "t['PTWORK'] = np.where(t['PTWORK'].isin(cond.index[cond >= threshold ]), t['PTWORK'], 'other')"
   ]
  },
  {
   "cell_type": "code",
   "execution_count": null,
   "id": "1b39ec23-4b41-4061-9c7f-7c25aadd9445",
   "metadata": {},
   "outputs": [],
   "source": [
    "categorical = ['PTGENDER', 'PTWORK',\n",
    " 'PTHOME',\n",
    " 'PTMARRY',\n",
    " 'PTEDUCAT',\n",
    " 'PTPLANG',\n",
    " 'NXVISUAL',\n",
    " 'PTNOTRT',\n",
    " 'NXTREMOR',\n",
    " 'NXAUDITO',\n",
    " 'PTHAND']"
   ]
  },
  {
   "cell_type": "code",
   "execution_count": null,
   "id": "b6fc83ae-7c3e-4aec-a5ec-5af93a881c31",
   "metadata": {},
   "outputs": [],
   "source": [
    "quant = ['PTDOBYY',\n",
    " 'PHC_MEM',\n",
    " 'PHC_EXF',\n",
    " 'PTRACCAT',\n",
    " 'AGE',\n",
    " 'PTADDX',\n",
    " 'PTETHCAT',\n",
    " 'PTCOGBEG',\n",
    " 'PHC_VSP',\n",
    " 'PHC_LAN']"
   ]
  },
  {
   "cell_type": "code",
   "execution_count": null,
   "id": "e2beb1b4-0666-4826-bdd3-12c680e4f000",
   "metadata": {},
   "outputs": [],
   "source": [
    "text = [\"PTWORK\", \"CMMED\"]"
   ]
  },
  {
   "cell_type": "code",
   "execution_count": null,
   "id": "05831e14-c9a1-4257-98eb-1d8b8f5e33cb",
   "metadata": {},
   "outputs": [],
   "source": [
    "cols_left = list(set(t.columns) - set(categorical) - set(text)  - set([\"label\", \"Group\",\"GROUP\", \"Phase\", \"RID\", \"PTID\"]))\n",
    "t[cols_left]"
   ]
  },
  {
   "cell_type": "code",
   "execution_count": null,
   "id": "b408fd4f-f667-48e9-896c-36a9877ae3e0",
   "metadata": {},
   "outputs": [],
   "source": [
    "for col in cols_left:\n",
    "    if len(t[col].value_counts()) < 10:\n",
    "        print(col)\n",
    "        categorical.append(col)"
   ]
  },
  {
   "cell_type": "code",
   "execution_count": null,
   "id": "196cc98b-4c2d-4a60-be9d-09394f0cf0e7",
   "metadata": {},
   "outputs": [],
   "source": [
    "to_del = [\"PTRTYR\", \"EXAMDATE\", \"SUBJECT_KEY\", \"PTWRECNT\"]\n",
    "t = t.drop(to_del, axis=1)"
   ]
  },
  {
   "cell_type": "code",
   "execution_count": null,
   "id": "253e82e4-aac1-4fcb-83f2-0fd9274088eb",
   "metadata": {},
   "outputs": [],
   "source": [
    "quant = list(set(cols_left) - set(categorical) - set(text)  -set(to_del) - set([\"label\", \"Group\",\"GROUP\", \"Phase\", \"RID\", \"PTID\"]))\n",
    "t[quant]"
   ]
  },
  {
   "cell_type": "code",
   "execution_count": null,
   "id": "ad35048c-9af8-40d2-aade-316c8c2205b9",
   "metadata": {},
   "outputs": [],
   "source": [
    "cols_left = list(set(cols_left) - set(categorical) - set(text) - set(quant) - set(to_del))"
   ]
  },
  {
   "cell_type": "code",
   "execution_count": null,
   "id": "9e021a34",
   "metadata": {},
   "outputs": [],
   "source": [
    "#after reviewing the meaning of each column, these are the final ones\n",
    "l = ['RID', 'PTID', 'Group', 'Phase', 'PTGENDER', 'PTDOBYY', 'PTHAND',\n",
    "       'PTMARRY', 'PTEDUCAT', 'PTWORK', 'PTNOTRT', 'PTHOME', 'PTTLANG',\n",
    "       'PTPLANG', 'PTCOGBEG', 'PTETHCAT', 'PTRACCAT', 'NXVISUAL',\n",
    "       'NXAUDITO', 'NXTREMOR', 'NXCONSCI', 'NXNERVE', 'NXMOTOR', 'NXFINGER',\n",
    "       'NXHEEL', 'NXSENSOR', 'NXTENDON', 'NXPLANTA', 'NXGAIT', \n",
    "       'NXABNORM',  'PHC_MEM', 'PHC_EXF', 'PHC_LAN', 'PHC_VSP']"
   ]
  },
  {
   "cell_type": "code",
   "execution_count": null,
   "id": "0fda1d8f",
   "metadata": {},
   "outputs": [],
   "source": [
    "t[l]"
   ]
  },
  {
   "cell_type": "code",
   "execution_count": null,
   "id": "31cdfc41-ccfe-48b3-afd4-c322eab38909",
   "metadata": {},
   "outputs": [],
   "source": [
    "dfs = []"
   ]
  },
  {
   "cell_type": "code",
   "execution_count": null,
   "id": "1018a35d-263a-4a62-aaa0-2c7a47f5a10d",
   "metadata": {},
   "outputs": [],
   "source": [
    "for col in categorical:\n",
    "    dfs.append(pd.get_dummies(t[col], prefix = col))"
   ]
  },
  {
   "cell_type": "code",
   "execution_count": null,
   "id": "5b875eec-d52d-4172-b518-66971278cd43",
   "metadata": {},
   "outputs": [],
   "source": [
    "cat = pd.concat(dfs, axis=1)"
   ]
  },
  {
   "cell_type": "code",
   "execution_count": null,
   "id": "5b827aa0-a976-4825-a28c-bfc449441639",
   "metadata": {},
   "outputs": [],
   "source": [
    "t[quant]"
   ]
  },
  {
   "cell_type": "code",
   "execution_count": null,
   "id": "f37bee95-d4cd-4999-b388-c190eacab453",
   "metadata": {},
   "outputs": [],
   "source": [
    "cat"
   ]
  },
  {
   "cell_type": "code",
   "execution_count": null,
   "id": "6b5a1415-e27e-4c6a-8c9b-87184a8af2e1",
   "metadata": {},
   "outputs": [],
   "source": [
    "t[[\"PTID\",\"RID\", \"Phase\", \"Group\"]]"
   ]
  },
  {
   "cell_type": "code",
   "execution_count": null,
   "id": "cae61a87-7b62-46c8-8b74-6d687edbf06e",
   "metadata": {},
   "outputs": [],
   "source": [
    "c = pd.concat([t[[\"PTID\", \"RID\", \"Phase\", \"Group\"]].reset_index(), cat.reset_index(), t[quant].reset_index()], axis=1).drop(\"index\", axis=1) #tex"
   ]
  },
  {
   "cell_type": "code",
   "execution_count": null,
   "id": "8af0b682-ca05-460e-9929-0d06b17b3f28",
   "metadata": {},
   "outputs": [],
   "source": [
    "c"
   ]
  },
  {
   "cell_type": "code",
   "execution_count": null,
   "id": "0ad91066",
   "metadata": {},
   "outputs": [],
   "source": [
    "#removing repeating subjects, taking the most recent diagnosis\n",
    "c = c.groupby('PTID', \n",
    "                  group_keys=False).apply(lambda x: x.loc[x[\"Group\"].astype(int).idxmax()]).drop(\"PTID\", axis = 1).reset_index(inplace=False)"
   ]
  },
  {
   "cell_type": "code",
   "execution_count": null,
   "id": "0f44b459-a6ac-43a5-a254-c68b10eea1ee",
   "metadata": {},
   "outputs": [],
   "source": [
    "c.to_csv(\"clinical.csv\")"
   ]
  },
  {
   "cell_type": "code",
   "execution_count": null,
   "id": "904cc445-5299-4635-81d7-222d3ffc9352",
   "metadata": {},
   "outputs": [],
   "source": [
    "#reading in the overlap test set\n",
    "ts = pd.read_csv(\"overlap_test_set.csv\").rename(columns={\"subject\": \"PTID\"})\n",
    "\n",
    "#removing ids from the overlap test set\n",
    "c = c[~c[\"PTID\"].isin(list(ts[\"PTID\"].values))]"
   ]
  },
  {
   "cell_type": "code",
   "execution_count": null,
   "id": "7b32d73f-2e9a-4aca-a412-4543754f12b9",
   "metadata": {},
   "outputs": [],
   "source": [
    "cols = list(set(c.columns) - set([\"PTID\",\"RID\",\"subject\", \"ID\",\"GROUP\", \"Group\", \"label\", \"Phase\", \"SITEID\", \"VISCODE\", \"VISCODE2\", \"USERDATE\", \"USERDATE2\", \"update_stamp\", \"DX_x\",\"DX_y\", \"Unnamed: 0\"]))\n",
    "X = c[cols].values \n",
    "y = c[\"Group\"].astype(int).values\n",
    "\n",
    "\n",
    "X_train, X_test, y_train, y_test = train_test_split(X, y, test_size=0.1, random_state=42)"
   ]
  },
  {
   "cell_type": "code",
   "execution_count": null,
   "id": "66ac8e9f-10cd-4f12-9287-32403721264d",
   "metadata": {},
   "outputs": [],
   "source": [
    "X_train.to_pickle(\"X_train_c.pkl\")\n",
    "y_train.to_pickle(\"y_train_c.pkl\")\n",
    "\n",
    "X_test.to_pickle(\"X_test_c.pkl\")\n",
    "y_test.to_pickle(\"y_test_c.pkl\")"
   ]
  }
 ],
 "metadata": {
  "kernelspec": {
   "display_name": "dl3",
   "language": "python",
   "name": "python3"
  },
  "language_info": {
   "codemirror_mode": {
    "name": "ipython",
    "version": 3
   },
   "file_extension": ".py",
   "mimetype": "text/x-python",
   "name": "python",
   "nbconvert_exporter": "python",
   "pygments_lexer": "ipython3",
   "version": "3.9.13"
  }
 },
 "nbformat": 4,
 "nbformat_minor": 5
}
